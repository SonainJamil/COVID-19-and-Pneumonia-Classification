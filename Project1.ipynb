{
  "nbformat": 4,
  "nbformat_minor": 0,
  "metadata": {
    "colab": {
      "name": "Project1.ipynb",
      "provenance": [],
      "collapsed_sections": []
    },
    "kernelspec": {
      "name": "python3",
      "display_name": "Python 3"
    },
    "accelerator": "GPU"
  },
  "cells": [
    {
      "cell_type": "code",
      "metadata": {
        "colab": {
          "base_uri": "https://localhost:8080/",
          "height": 887
        },
        "id": "wNWIPl62Gxkk",
        "outputId": "62d68373-2ecb-4254-b2fd-95e1762d2e26"
      },
      "source": [
        "!pip install --upgrade --ignore-installed kaggle"
      ],
      "execution_count": 3,
      "outputs": [
        {
          "output_type": "stream",
          "text": [
            "Collecting kaggle\n",
            "\u001b[?25l  Downloading https://files.pythonhosted.org/packages/99/33/365c0d13f07a2a54744d027fe20b60dacdfdfb33bc04746db6ad0b79340b/kaggle-1.5.10.tar.gz (59kB)\n",
            "\u001b[K     |████████████████████████████████| 61kB 5.1MB/s \n",
            "\u001b[?25hCollecting six>=1.10\n",
            "  Downloading https://files.pythonhosted.org/packages/ee/ff/48bde5c0f013094d729fe4b0316ba2a24774b3ff1c52d924a8a4cb04078a/six-1.15.0-py2.py3-none-any.whl\n",
            "Collecting certifi\n",
            "\u001b[?25l  Downloading https://files.pythonhosted.org/packages/5e/a0/5f06e1e1d463903cf0c0eebeb751791119ed7a4b3737fdc9a77f1cdfb51f/certifi-2020.12.5-py2.py3-none-any.whl (147kB)\n",
            "\u001b[K     |████████████████████████████████| 153kB 10.8MB/s \n",
            "\u001b[?25hCollecting python-dateutil\n",
            "\u001b[?25l  Downloading https://files.pythonhosted.org/packages/d4/70/d60450c3dd48ef87586924207ae8907090de0b306af2bce5d134d78615cb/python_dateutil-2.8.1-py2.py3-none-any.whl (227kB)\n",
            "\u001b[K     |████████████████████████████████| 235kB 8.1MB/s \n",
            "\u001b[?25hCollecting requests\n",
            "\u001b[?25l  Downloading https://files.pythonhosted.org/packages/29/c1/24814557f1d22c56d50280771a17307e6bf87b70727d975fd6b2ce6b014a/requests-2.25.1-py2.py3-none-any.whl (61kB)\n",
            "\u001b[K     |████████████████████████████████| 61kB 6.9MB/s \n",
            "\u001b[?25hCollecting tqdm\n",
            "\u001b[?25l  Downloading https://files.pythonhosted.org/packages/80/02/8f8880a4fd6625461833abcf679d4c12a44c76f9925f92bf212bb6cefaad/tqdm-4.56.0-py2.py3-none-any.whl (72kB)\n",
            "\u001b[K     |████████████████████████████████| 81kB 8.8MB/s \n",
            "\u001b[?25hCollecting python-slugify\n",
            "  Downloading https://files.pythonhosted.org/packages/9f/42/e336f96a8b6007428df772d0d159b8eee9b2f1811593a4931150660402c0/python-slugify-4.0.1.tar.gz\n",
            "Collecting urllib3\n",
            "\u001b[?25l  Downloading https://files.pythonhosted.org/packages/f5/71/45d36a8df68f3ebb098d6861b2c017f3d094538c0fb98fa61d4dc43e69b9/urllib3-1.26.2-py2.py3-none-any.whl (136kB)\n",
            "\u001b[K     |████████████████████████████████| 143kB 15.0MB/s \n",
            "\u001b[?25hCollecting chardet<5,>=3.0.2\n",
            "\u001b[?25l  Downloading https://files.pythonhosted.org/packages/19/c7/fa589626997dd07bd87d9269342ccb74b1720384a4d739a1872bd84fbe68/chardet-4.0.0-py2.py3-none-any.whl (178kB)\n",
            "\u001b[K     |████████████████████████████████| 184kB 14.1MB/s \n",
            "\u001b[?25hCollecting idna<3,>=2.5\n",
            "\u001b[?25l  Downloading https://files.pythonhosted.org/packages/a2/38/928ddce2273eaa564f6f50de919327bf3a00f091b5baba8dfa9460f3a8a8/idna-2.10-py2.py3-none-any.whl (58kB)\n",
            "\u001b[K     |████████████████████████████████| 61kB 8.9MB/s \n",
            "\u001b[?25hCollecting text-unidecode>=1.3\n",
            "\u001b[?25l  Downloading https://files.pythonhosted.org/packages/a6/a5/c0b6468d3824fe3fde30dbb5e1f687b291608f9473681bbf7dabbf5a87d7/text_unidecode-1.3-py2.py3-none-any.whl (78kB)\n",
            "\u001b[K     |████████████████████████████████| 81kB 8.0MB/s \n",
            "\u001b[?25hBuilding wheels for collected packages: kaggle, python-slugify\n",
            "  Building wheel for kaggle (setup.py) ... \u001b[?25l\u001b[?25hdone\n",
            "  Created wheel for kaggle: filename=kaggle-1.5.10-cp36-none-any.whl size=73269 sha256=50bc534fb81ec81f53142393299f453acdf0fc797e6ddad3842eabc5d44f68a4\n",
            "  Stored in directory: /root/.cache/pip/wheels/3a/d1/7e/6ce09b72b770149802c653a02783821629146983ee5a360f10\n",
            "  Building wheel for python-slugify (setup.py) ... \u001b[?25l\u001b[?25hdone\n",
            "  Created wheel for python-slugify: filename=python_slugify-4.0.1-py2.py3-none-any.whl size=6769 sha256=4e69513494b3e33a0fd37b68d485d3d7d650198a32f5c824ad70cf1d8b054cb9\n",
            "  Stored in directory: /root/.cache/pip/wheels/67/b8/ba/041548f30a6fc058c9b3f79a5b7b6aea925a15dd1e5c4992a4\n",
            "Successfully built kaggle python-slugify\n",
            "\u001b[31mERROR: nbclient 0.5.1 has requirement jupyter-client>=6.1.5, but you'll have jupyter-client 5.3.5 which is incompatible.\u001b[0m\n",
            "\u001b[31mERROR: google-colab 1.0.0 has requirement requests~=2.23.0, but you'll have requests 2.25.1 which is incompatible.\u001b[0m\n",
            "\u001b[31mERROR: datascience 0.10.6 has requirement folium==0.2.1, but you'll have folium 0.8.3 which is incompatible.\u001b[0m\n",
            "\u001b[31mERROR: albumentations 0.1.12 has requirement imgaug<0.2.7,>=0.2.5, but you'll have imgaug 0.2.9 which is incompatible.\u001b[0m\n",
            "Installing collected packages: six, certifi, python-dateutil, chardet, urllib3, idna, requests, tqdm, text-unidecode, python-slugify, kaggle\n",
            "Successfully installed certifi-2020.12.5 chardet-4.0.0 idna-2.10 kaggle-1.5.10 python-dateutil-2.8.1 python-slugify-4.0.1 requests-2.25.1 six-1.15.0 text-unidecode-1.3 tqdm-4.56.0 urllib3-1.26.2\n"
          ],
          "name": "stdout"
        },
        {
          "output_type": "display_data",
          "data": {
            "application/vnd.colab-display-data+json": {
              "pip_warning": {
                "packages": [
                  "dateutil",
                  "six"
                ]
              }
            }
          },
          "metadata": {
            "tags": []
          }
        }
      ]
    },
    {
      "cell_type": "code",
      "metadata": {
        "colab": {
          "resources": {
            "http://localhost:8080/nbextensions/google.colab/files.js": {
              "data": "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",
              "ok": true,
              "headers": [
                [
                  "content-type",
                  "application/javascript"
                ]
              ],
              "status": 200,
              "status_text": ""
            }
          },
          "base_uri": "https://localhost:8080/",
          "height": 89
        },
        "id": "F424OolDG66g",
        "outputId": "6a9e96d3-19f7-4e05-a43d-b71701125e24"
      },
      "source": [
        "from google.colab import files\r\n",
        "files.upload()"
      ],
      "execution_count": 4,
      "outputs": [
        {
          "output_type": "display_data",
          "data": {
            "text/html": [
              "\n",
              "     <input type=\"file\" id=\"files-74fd7bad-9566-4ce5-9785-8b6279c42148\" name=\"files[]\" multiple disabled\n",
              "        style=\"border:none\" />\n",
              "     <output id=\"result-74fd7bad-9566-4ce5-9785-8b6279c42148\">\n",
              "      Upload widget is only available when the cell has been executed in the\n",
              "      current browser session. Please rerun this cell to enable.\n",
              "      </output>\n",
              "      <script src=\"/nbextensions/google.colab/files.js\"></script> "
            ],
            "text/plain": [
              "<IPython.core.display.HTML object>"
            ]
          },
          "metadata": {
            "tags": []
          }
        },
        {
          "output_type": "stream",
          "text": [
            "Saving kaggle.json to kaggle.json\n"
          ],
          "name": "stdout"
        },
        {
          "output_type": "execute_result",
          "data": {
            "text/plain": [
              "{'kaggle.json': b'{\"username\":\"sonain\",\"key\":\"73872971f1565d30425756d4228e2ef6\"}'}"
            ]
          },
          "metadata": {
            "tags": []
          },
          "execution_count": 4
        }
      ]
    },
    {
      "cell_type": "code",
      "metadata": {
        "colab": {
          "base_uri": "https://localhost:8080/"
        },
        "id": "w0bW3fgzHHMa",
        "outputId": "cf9a1113-ce08-4053-b2c9-670d4a1946ec"
      },
      "source": [
        "!mkdir ~/.kaggle #created at root folder in colab"
      ],
      "execution_count": 6,
      "outputs": [
        {
          "output_type": "stream",
          "text": [
            "mkdir: cannot create directory ‘/root/.kaggle’: File exists\n"
          ],
          "name": "stdout"
        }
      ]
    },
    {
      "cell_type": "code",
      "metadata": {
        "id": "T7Kav5N8HQAk"
      },
      "source": [
        "#copy\r\n",
        "!cp kaggle.json ~/.kaggle"
      ],
      "execution_count": 7,
      "outputs": []
    },
    {
      "cell_type": "code",
      "metadata": {
        "id": "CCJ0g1ZbHW02"
      },
      "source": [
        "\r\n",
        "! chmod 600 ~/.kaggle/kaggle.json"
      ],
      "execution_count": 8,
      "outputs": []
    },
    {
      "cell_type": "code",
      "metadata": {
        "colab": {
          "base_uri": "https://localhost:8080/"
        },
        "id": "N2yBP83kHfo1",
        "outputId": "68632ecb-39cf-40d2-ef44-e15dd6c4c9f8"
      },
      "source": [
        "!kaggle datasets download -d darshan1504/covid19-detection-xray-dataset"
      ],
      "execution_count": 9,
      "outputs": [
        {
          "output_type": "stream",
          "text": [
            "Downloading covid19-detection-xray-dataset.zip to /content\n",
            " 91% 169M/186M [00:01<00:00, 100MB/s] \n",
            "100% 186M/186M [00:01<00:00, 110MB/s]\n"
          ],
          "name": "stdout"
        }
      ]
    },
    {
      "cell_type": "code",
      "metadata": {
        "id": "-GGUW5NrHtH_"
      },
      "source": [
        "#unzip dataset in colab session\r\n",
        "!unzip -q covid19-detection-xray-dataset # -q for quiet"
      ],
      "execution_count": 10,
      "outputs": []
    },
    {
      "cell_type": "code",
      "metadata": {
        "colab": {
          "base_uri": "https://localhost:8080/"
        },
        "id": "7Pj2g-X9HzM1",
        "outputId": "7d391557-8ba9-4513-f42e-b7e0941c8583"
      },
      "source": [
        "from google.colab import drive\r\n",
        "drive.mount('/content/drive')\r\n"
      ],
      "execution_count": 11,
      "outputs": [
        {
          "output_type": "stream",
          "text": [
            "Mounted at /content/drive\n"
          ],
          "name": "stdout"
        }
      ]
    },
    {
      "cell_type": "code",
      "metadata": {
        "id": "jj9Rq8BfH-8n"
      },
      "source": [
        "# copy zipped dataset into your drive\r\n",
        "!cp \"/content/covid19-detection-xray-dataset.zip\" /content/drive/MyDrive/"
      ],
      "execution_count": 12,
      "outputs": []
    },
    {
      "cell_type": "code",
      "metadata": {
        "id": "vZv9S_RHIFF5"
      },
      "source": [
        "\r\n",
        "import numpy as np\r\n",
        "from keras import layers\r\n",
        "from keras.layers import Input, Dense, Activation,BatchNormalization, Flatten, Conv2D, MaxPooling2D\r\n",
        "from keras.models import Model\r\n",
        "from keras.preprocessing import image\r\n",
        "from keras.preprocessing.image import ImageDataGenerator\r\n",
        "import keras.backend as K\r\n",
        "K.set_image_data_format('channels_last')\r\n",
        "import matplotlib.pyplot as plt\r\n",
        "import cv2\r\n",
        "import tensorflow as tf\r\n",
        "from keras.models import model_from_json\r\n",
        "from sklearn.preprocessing import LabelBinarizer\r\n",
        "import os\r\n",
        "from imutils import paths\r\n",
        "from tqdm import tqdm\r\n",
        "from matplotlib.pyplot import imshow"
      ],
      "execution_count": 13,
      "outputs": []
    },
    {
      "cell_type": "code",
      "metadata": {
        "colab": {
          "base_uri": "https://localhost:8080/"
        },
        "id": "ic-BIp4WILgy",
        "outputId": "6ca43291-5647-4345-a875-bcbbb74a591f"
      },
      "source": [
        "!ls \"/content\""
      ],
      "execution_count": 14,
      "outputs": [
        {
          "output_type": "stream",
          "text": [
            "covid19-detection-xray-dataset.zip  kaggle.json        sample_data  ValData\n",
            "drive\t\t\t\t    NonAugmentedTrain  TrainData\n"
          ],
          "name": "stdout"
        }
      ]
    },
    {
      "cell_type": "code",
      "metadata": {
        "id": "t0lAywrmIQHJ"
      },
      "source": [
        "\r\n",
        "train_path = \"/content/NonAugmentedTrain\"\r\n",
        "#dataset path"
      ],
      "execution_count": 15,
      "outputs": []
    },
    {
      "cell_type": "code",
      "metadata": {
        "id": "eEldstl8IVBV"
      },
      "source": [
        "# A function to load data from a given directory\r\n",
        "def load_data(data_dir):\r\n",
        "  data = []\r\n",
        "  labels = []\r\n",
        "  class_dirs = os.listdir(data_dir)\r\n",
        "  \r\n",
        "  for direc in class_dirs:\r\n",
        "    class_dir = os.path.join(data_dir, direc)\r\n",
        "    for imagepath in tqdm(list(paths.list_images(class_dir))):\r\n",
        "      image = cv2.imread(imagepath)\r\n",
        "      image = cv2.resize(image, (227, 227))  # incase images not of same size\r\n",
        "      data.append(image)\r\n",
        "      labels.append(direc)\r\n",
        "  # normalizing and converting to numpy array format\r\n",
        "  data = np.array(data, dtype='float')/255.0\r\n",
        "  labels = np.array(labels)\r\n",
        "  return data, labels"
      ],
      "execution_count": 16,
      "outputs": []
    },
    {
      "cell_type": "code",
      "metadata": {
        "colab": {
          "base_uri": "https://localhost:8080/"
        },
        "id": "9h91GukwIlCm",
        "outputId": "7b1b1c1b-6c4f-4568-b1fc-a637e0f4814c"
      },
      "source": [
        "print('loading train images')\r\n",
        "X_train, y_train = load_data(train_path)"
      ],
      "execution_count": 17,
      "outputs": [
        {
          "output_type": "stream",
          "text": [
            " 12%|█▏        | 49/412 [00:00<00:00, 488.08it/s]"
          ],
          "name": "stderr"
        },
        {
          "output_type": "stream",
          "text": [
            "loading train images\n"
          ],
          "name": "stdout"
        },
        {
          "output_type": "stream",
          "text": [
            "100%|██████████| 412/412 [00:00<00:00, 682.43it/s]\n",
            "100%|██████████| 880/880 [00:01<00:00, 695.93it/s]\n",
            "100%|██████████| 650/650 [00:00<00:00, 713.79it/s]\n",
            "100%|██████████| 60/60 [00:00<00:00, 715.31it/s]\n"
          ],
          "name": "stderr"
        }
      ]
    },
    {
      "cell_type": "code",
      "metadata": {
        "id": "bDwTibmXIpUy"
      },
      "source": [
        "lb = LabelBinarizer()\r\n",
        "y_train = lb.fit_transform(y_train)"
      ],
      "execution_count": 18,
      "outputs": []
    },
    {
      "cell_type": "code",
      "metadata": {
        "id": "suEltj_pIwDy"
      },
      "source": [
        "from keras.models import Sequential\r\n",
        "from keras.layers import Dropout\r\n",
        "\r\n",
        "alexnet=Sequential()\r\n",
        "# 1st Convolutional Layer \r\n",
        "alexnet.add(Conv2D(filters = 96, input_shape = (227, 227, 3),  kernel_size = (11, 11), strides = (4, 4),  padding = 'valid')) \r\n",
        "alexnet.add(Activation('relu')) \r\n",
        "# Max-Pooling  \r\n",
        "alexnet.add(MaxPooling2D(pool_size = (2, 2), strides = (2, 2), padding = 'valid')) \r\n",
        "# Batch Normalisation \r\n",
        "alexnet.add(BatchNormalization()) \r\n",
        "  \r\n",
        "# 2nd Convolutional Layer \r\n",
        "alexnet.add(Conv2D(filters = 256, kernel_size = (11, 11), strides = (1, 1), padding = 'valid')) \r\n",
        "alexnet.add(Activation('relu')) \r\n",
        "# Max-Pooling \r\n",
        "alexnet.add(MaxPooling2D(pool_size = (2, 2), strides = (2, 2),  padding = 'valid')) \r\n",
        "# Batch Normalisation \r\n",
        "alexnet.add(BatchNormalization()) \r\n",
        "  \r\n",
        "# 3rd Convolutional Layer \r\n",
        "alexnet.add(Conv2D(filters = 384, kernel_size = (3, 3),   strides = (1, 1), padding = 'valid')) \r\n",
        "alexnet.add(Activation('relu')) \r\n",
        "# Batch Normalisation \r\n",
        "alexnet.add(BatchNormalization()) \r\n",
        "  \r\n",
        "# 4th Convolutional Layer \r\n",
        "alexnet.add(Conv2D(filters = 384, kernel_size = (3, 3),  strides = (1, 1), padding = 'valid')) \r\n",
        "alexnet.add(Activation('relu')) \r\n",
        "# Batch Normalisation \r\n",
        "alexnet.add(BatchNormalization()) \r\n",
        "  \r\n",
        "# 5th Convolutional Layer \r\n",
        "alexnet.add(Conv2D(filters = 256, kernel_size = (3, 3), strides = (1, 1), padding = 'valid')) \r\n",
        "alexnet.add(Activation('relu')) \r\n",
        "# Max-Pooling \r\n",
        "alexnet.add(MaxPooling2D(pool_size = (2, 2), strides = (2, 2),  padding = 'valid')) \r\n",
        "# Batch Normalisation \r\n",
        "alexnet.add(BatchNormalization()) \r\n",
        "  \r\n",
        "# Flattening \r\n",
        "alexnet.add(Flatten()) \r\n",
        "  \r\n",
        "# 1st Dense Layer \r\n",
        "alexnet.add(Dense(4096, input_shape = (227*227*3, ))) \r\n",
        "alexnet.add(Activation('relu')) \r\n",
        "# Add Dropout to prevent overfitting \r\n",
        "alexnet.add(Dropout(0.4)) \r\n",
        "# Batch Normalisation \r\n",
        "alexnet.add(BatchNormalization()) \r\n",
        "  \r\n",
        "# 2nd Dense Layer \r\n",
        "alexnet.add(Dense(4096)) \r\n",
        "alexnet.add(Activation('relu')) \r\n",
        "# Add Dropout \r\n",
        "alexnet.add(Dropout(0.4)) \r\n",
        "# Batch Normalisation \r\n",
        "alexnet.add(BatchNormalization()) \r\n",
        "  \r\n",
        "# Output Softmax Layer \r\n",
        "alexnet.add(Dense(4)) \r\n",
        "alexnet.add(Activation('softmax'))"
      ],
      "execution_count": 19,
      "outputs": []
    },
    {
      "cell_type": "code",
      "metadata": {
        "colab": {
          "base_uri": "https://localhost:8080/"
        },
        "id": "_lmWPd81I7Jb",
        "outputId": "c6605ea7-045f-4537-de63-2661dbf003ba"
      },
      "source": [
        "# printing summary of model\r\n",
        "alexnet.summary()"
      ],
      "execution_count": 20,
      "outputs": [
        {
          "output_type": "stream",
          "text": [
            "Model: \"sequential\"\n",
            "_________________________________________________________________\n",
            "Layer (type)                 Output Shape              Param #   \n",
            "=================================================================\n",
            "conv2d (Conv2D)              (None, 55, 55, 96)        34944     \n",
            "_________________________________________________________________\n",
            "activation (Activation)      (None, 55, 55, 96)        0         \n",
            "_________________________________________________________________\n",
            "max_pooling2d (MaxPooling2D) (None, 27, 27, 96)        0         \n",
            "_________________________________________________________________\n",
            "batch_normalization (BatchNo (None, 27, 27, 96)        384       \n",
            "_________________________________________________________________\n",
            "conv2d_1 (Conv2D)            (None, 17, 17, 256)       2973952   \n",
            "_________________________________________________________________\n",
            "activation_1 (Activation)    (None, 17, 17, 256)       0         \n",
            "_________________________________________________________________\n",
            "max_pooling2d_1 (MaxPooling2 (None, 8, 8, 256)         0         \n",
            "_________________________________________________________________\n",
            "batch_normalization_1 (Batch (None, 8, 8, 256)         1024      \n",
            "_________________________________________________________________\n",
            "conv2d_2 (Conv2D)            (None, 6, 6, 384)         885120    \n",
            "_________________________________________________________________\n",
            "activation_2 (Activation)    (None, 6, 6, 384)         0         \n",
            "_________________________________________________________________\n",
            "batch_normalization_2 (Batch (None, 6, 6, 384)         1536      \n",
            "_________________________________________________________________\n",
            "conv2d_3 (Conv2D)            (None, 4, 4, 384)         1327488   \n",
            "_________________________________________________________________\n",
            "activation_3 (Activation)    (None, 4, 4, 384)         0         \n",
            "_________________________________________________________________\n",
            "batch_normalization_3 (Batch (None, 4, 4, 384)         1536      \n",
            "_________________________________________________________________\n",
            "conv2d_4 (Conv2D)            (None, 2, 2, 256)         884992    \n",
            "_________________________________________________________________\n",
            "activation_4 (Activation)    (None, 2, 2, 256)         0         \n",
            "_________________________________________________________________\n",
            "max_pooling2d_2 (MaxPooling2 (None, 1, 1, 256)         0         \n",
            "_________________________________________________________________\n",
            "batch_normalization_4 (Batch (None, 1, 1, 256)         1024      \n",
            "_________________________________________________________________\n",
            "flatten (Flatten)            (None, 256)               0         \n",
            "_________________________________________________________________\n",
            "dense (Dense)                (None, 4096)              1052672   \n",
            "_________________________________________________________________\n",
            "activation_5 (Activation)    (None, 4096)              0         \n",
            "_________________________________________________________________\n",
            "dropout (Dropout)            (None, 4096)              0         \n",
            "_________________________________________________________________\n",
            "batch_normalization_5 (Batch (None, 4096)              16384     \n",
            "_________________________________________________________________\n",
            "dense_1 (Dense)              (None, 4096)              16781312  \n",
            "_________________________________________________________________\n",
            "activation_6 (Activation)    (None, 4096)              0         \n",
            "_________________________________________________________________\n",
            "dropout_1 (Dropout)          (None, 4096)              0         \n",
            "_________________________________________________________________\n",
            "batch_normalization_6 (Batch (None, 4096)              16384     \n",
            "_________________________________________________________________\n",
            "dense_2 (Dense)              (None, 4)                 16388     \n",
            "_________________________________________________________________\n",
            "activation_7 (Activation)    (None, 4)                 0         \n",
            "=================================================================\n",
            "Total params: 23,995,140\n",
            "Trainable params: 23,976,004\n",
            "Non-trainable params: 19,136\n",
            "_________________________________________________________________\n"
          ],
          "name": "stdout"
        }
      ]
    },
    {
      "cell_type": "code",
      "metadata": {
        "id": "dBbJHqwGJAHc"
      },
      "source": [
        "from sklearn.model_selection import train_test_split"
      ],
      "execution_count": 21,
      "outputs": []
    },
    {
      "cell_type": "code",
      "metadata": {
        "id": "B8FXGApwJFlQ"
      },
      "source": [
        "(X_train, X_valid, y_train, y_valid) = train_test_split(X_train, y_train,\r\n",
        "                                                        test_size=0.2,\r\n",
        "                                                        random_state=42)"
      ],
      "execution_count": 22,
      "outputs": []
    },
    {
      "cell_type": "code",
      "metadata": {
        "id": "l5l8pVl5JLPK"
      },
      "source": [
        "from keras.optimizers import SGD\r\n",
        "sgd = SGD(lr=0.001, decay=1e-7, momentum=.9)"
      ],
      "execution_count": 23,
      "outputs": []
    },
    {
      "cell_type": "code",
      "metadata": {
        "id": "NKWK3uiwJQA5"
      },
      "source": [
        "# compiling model\r\n",
        "# using categorical_crossentropy loss to Computes the crossentropy loss between the labels and predictions\r\n",
        "# -(ylog(p)+(1-y)log(1-p)) is used for cross entropy loss\r\n",
        "# the optimizer adam utilizes the concept of momentum by adding fractions of previous gradients to the current one\r\n",
        "# matrics =['acuracy'] Calculates how often predictions equal labels and returns\r\n",
        "# This metric creates two local variables, total and count that are used to compute the\r\n",
        "# frequency with which y_pred matches y_true\r\n",
        "alexnet.compile(optimizer = sgd , loss = 'categorical_crossentropy' , metrics=['accuracy'])"
      ],
      "execution_count": 24,
      "outputs": []
    },
    {
      "cell_type": "code",
      "metadata": {
        "colab": {
          "base_uri": "https://localhost:8080/"
        },
        "id": "FnMBSIgKKjnI",
        "outputId": "4de23cff-1e83-40ab-ef1e-4582bc1ef271"
      },
      "source": [
        "# training our model\r\n",
        "# we are using .fit method instead of .fit_generator because we have tensorflow 2.4.0\r\n",
        "hist=alexnet.fit(X_train, y_train,epochs=50, batch_size=128, validation_data=(X_valid, y_valid))"
      ],
      "execution_count": 25,
      "outputs": [
        {
          "output_type": "stream",
          "text": [
            "Epoch 1/50\n",
            "13/13 [==============================] - 11s 213ms/step - loss: 1.6421 - accuracy: 0.3870 - val_loss: 1.3845 - val_accuracy: 0.3167\n",
            "Epoch 2/50\n",
            "13/13 [==============================] - 1s 112ms/step - loss: 0.9946 - accuracy: 0.6367 - val_loss: 1.3808 - val_accuracy: 0.3392\n",
            "Epoch 3/50\n",
            "13/13 [==============================] - 1s 110ms/step - loss: 0.8308 - accuracy: 0.6877 - val_loss: 1.3862 - val_accuracy: 0.3342\n",
            "Epoch 4/50\n",
            "13/13 [==============================] - 1s 112ms/step - loss: 0.6890 - accuracy: 0.7258 - val_loss: 1.4104 - val_accuracy: 0.3342\n",
            "Epoch 5/50\n",
            "13/13 [==============================] - 2s 122ms/step - loss: 0.6699 - accuracy: 0.7682 - val_loss: 1.4161 - val_accuracy: 0.3342\n",
            "Epoch 6/50\n",
            "13/13 [==============================] - 1s 114ms/step - loss: 0.6002 - accuracy: 0.7582 - val_loss: 1.3536 - val_accuracy: 0.3367\n",
            "Epoch 7/50\n",
            "13/13 [==============================] - 1s 112ms/step - loss: 0.4841 - accuracy: 0.8160 - val_loss: 1.5116 - val_accuracy: 0.3367\n",
            "Epoch 8/50\n",
            "13/13 [==============================] - 1s 115ms/step - loss: 0.4643 - accuracy: 0.8243 - val_loss: 1.4208 - val_accuracy: 0.3317\n",
            "Epoch 9/50\n",
            "13/13 [==============================] - 1s 112ms/step - loss: 0.4029 - accuracy: 0.8461 - val_loss: 1.6712 - val_accuracy: 0.3317\n",
            "Epoch 10/50\n",
            "13/13 [==============================] - 1s 108ms/step - loss: 0.3841 - accuracy: 0.8420 - val_loss: 1.6957 - val_accuracy: 0.3342\n",
            "Epoch 11/50\n",
            "13/13 [==============================] - 1s 111ms/step - loss: 0.3622 - accuracy: 0.8520 - val_loss: 1.5469 - val_accuracy: 0.3566\n",
            "Epoch 12/50\n",
            "13/13 [==============================] - 1s 114ms/step - loss: 0.3556 - accuracy: 0.8567 - val_loss: 1.2646 - val_accuracy: 0.3716\n",
            "Epoch 13/50\n",
            "13/13 [==============================] - 1s 111ms/step - loss: 0.3268 - accuracy: 0.8557 - val_loss: 1.7332 - val_accuracy: 0.3591\n",
            "Epoch 14/50\n",
            "13/13 [==============================] - 1s 113ms/step - loss: 0.3053 - accuracy: 0.8758 - val_loss: 1.8827 - val_accuracy: 0.3416\n",
            "Epoch 15/50\n",
            "13/13 [==============================] - 1s 115ms/step - loss: 0.3160 - accuracy: 0.8766 - val_loss: 1.6873 - val_accuracy: 0.3716\n",
            "Epoch 16/50\n",
            "13/13 [==============================] - 1s 114ms/step - loss: 0.2818 - accuracy: 0.8727 - val_loss: 1.4511 - val_accuracy: 0.4190\n",
            "Epoch 17/50\n",
            "13/13 [==============================] - 1s 117ms/step - loss: 0.2442 - accuracy: 0.9011 - val_loss: 1.1681 - val_accuracy: 0.4963\n",
            "Epoch 18/50\n",
            "13/13 [==============================] - 1s 113ms/step - loss: 0.2122 - accuracy: 0.9108 - val_loss: 1.6820 - val_accuracy: 0.4339\n",
            "Epoch 19/50\n",
            "13/13 [==============================] - 1s 117ms/step - loss: 0.1866 - accuracy: 0.9321 - val_loss: 1.4988 - val_accuracy: 0.5012\n",
            "Epoch 20/50\n",
            "13/13 [==============================] - 1s 114ms/step - loss: 0.2210 - accuracy: 0.9178 - val_loss: 0.9621 - val_accuracy: 0.5810\n",
            "Epoch 21/50\n",
            "13/13 [==============================] - 1s 116ms/step - loss: 0.1603 - accuracy: 0.9348 - val_loss: 1.3378 - val_accuracy: 0.5187\n",
            "Epoch 22/50\n",
            "13/13 [==============================] - 1s 116ms/step - loss: 0.1540 - accuracy: 0.9393 - val_loss: 0.9675 - val_accuracy: 0.6559\n",
            "Epoch 23/50\n",
            "13/13 [==============================] - 1s 114ms/step - loss: 0.1469 - accuracy: 0.9395 - val_loss: 1.3966 - val_accuracy: 0.5511\n",
            "Epoch 24/50\n",
            "13/13 [==============================] - 1s 115ms/step - loss: 0.1270 - accuracy: 0.9470 - val_loss: 0.7210 - val_accuracy: 0.7032\n",
            "Epoch 25/50\n",
            "13/13 [==============================] - 1s 116ms/step - loss: 0.1261 - accuracy: 0.9516 - val_loss: 1.3499 - val_accuracy: 0.5835\n",
            "Epoch 26/50\n",
            "13/13 [==============================] - 1s 114ms/step - loss: 0.1110 - accuracy: 0.9576 - val_loss: 0.6929 - val_accuracy: 0.7232\n",
            "Epoch 27/50\n",
            "13/13 [==============================] - 1s 114ms/step - loss: 0.1075 - accuracy: 0.9625 - val_loss: 0.7086 - val_accuracy: 0.7357\n",
            "Epoch 28/50\n",
            "13/13 [==============================] - 2s 118ms/step - loss: 0.1096 - accuracy: 0.9606 - val_loss: 0.9666 - val_accuracy: 0.6808\n",
            "Epoch 29/50\n",
            "13/13 [==============================] - 1s 117ms/step - loss: 0.0870 - accuracy: 0.9685 - val_loss: 1.0687 - val_accuracy: 0.6958\n",
            "Epoch 30/50\n",
            "13/13 [==============================] - 2s 117ms/step - loss: 0.0710 - accuracy: 0.9715 - val_loss: 1.0248 - val_accuracy: 0.6833\n",
            "Epoch 31/50\n",
            "13/13 [==============================] - 1s 112ms/step - loss: 0.0607 - accuracy: 0.9808 - val_loss: 0.9242 - val_accuracy: 0.6833\n",
            "Epoch 32/50\n",
            "13/13 [==============================] - 1s 116ms/step - loss: 0.0516 - accuracy: 0.9838 - val_loss: 0.8768 - val_accuracy: 0.7282\n",
            "Epoch 33/50\n",
            "13/13 [==============================] - 1s 116ms/step - loss: 0.0373 - accuracy: 0.9903 - val_loss: 0.8696 - val_accuracy: 0.7207\n",
            "Epoch 34/50\n",
            "13/13 [==============================] - 1s 116ms/step - loss: 0.0402 - accuracy: 0.9839 - val_loss: 1.1595 - val_accuracy: 0.6658\n",
            "Epoch 35/50\n",
            "13/13 [==============================] - 1s 116ms/step - loss: 0.0438 - accuracy: 0.9893 - val_loss: 1.0961 - val_accuracy: 0.6608\n",
            "Epoch 36/50\n",
            "13/13 [==============================] - 1s 116ms/step - loss: 0.0425 - accuracy: 0.9833 - val_loss: 0.9689 - val_accuracy: 0.7007\n",
            "Epoch 37/50\n",
            "13/13 [==============================] - 1s 115ms/step - loss: 0.0456 - accuracy: 0.9841 - val_loss: 0.8820 - val_accuracy: 0.7232\n",
            "Epoch 38/50\n",
            "13/13 [==============================] - 1s 117ms/step - loss: 0.0373 - accuracy: 0.9883 - val_loss: 1.0345 - val_accuracy: 0.7107\n",
            "Epoch 39/50\n",
            "13/13 [==============================] - 2s 117ms/step - loss: 0.0290 - accuracy: 0.9920 - val_loss: 1.1581 - val_accuracy: 0.7057\n",
            "Epoch 40/50\n",
            "13/13 [==============================] - 2s 119ms/step - loss: 0.0209 - accuracy: 0.9946 - val_loss: 0.8682 - val_accuracy: 0.7431\n",
            "Epoch 41/50\n",
            "13/13 [==============================] - 2s 117ms/step - loss: 0.0284 - accuracy: 0.9901 - val_loss: 0.8970 - val_accuracy: 0.7382\n",
            "Epoch 42/50\n",
            "13/13 [==============================] - 2s 117ms/step - loss: 0.0284 - accuracy: 0.9924 - val_loss: 2.0646 - val_accuracy: 0.5786\n",
            "Epoch 43/50\n",
            "13/13 [==============================] - 2s 118ms/step - loss: 0.0187 - accuracy: 0.9933 - val_loss: 0.8765 - val_accuracy: 0.7581\n",
            "Epoch 44/50\n",
            "13/13 [==============================] - 2s 117ms/step - loss: 0.0127 - accuracy: 0.9990 - val_loss: 0.8625 - val_accuracy: 0.7980\n",
            "Epoch 45/50\n",
            "13/13 [==============================] - 2s 117ms/step - loss: 0.0194 - accuracy: 0.9942 - val_loss: 0.8351 - val_accuracy: 0.7756\n",
            "Epoch 46/50\n",
            "13/13 [==============================] - 2s 119ms/step - loss: 0.0248 - accuracy: 0.9951 - val_loss: 1.0528 - val_accuracy: 0.7182\n",
            "Epoch 47/50\n",
            "13/13 [==============================] - 1s 117ms/step - loss: 0.0199 - accuracy: 0.9960 - val_loss: 1.0612 - val_accuracy: 0.7382\n",
            "Epoch 48/50\n",
            "13/13 [==============================] - 2s 118ms/step - loss: 0.0147 - accuracy: 0.9962 - val_loss: 3.4909 - val_accuracy: 0.4015\n",
            "Epoch 49/50\n",
            "13/13 [==============================] - 2s 127ms/step - loss: 0.0384 - accuracy: 0.9850 - val_loss: 1.1317 - val_accuracy: 0.7406\n",
            "Epoch 50/50\n",
            "13/13 [==============================] - 2s 118ms/step - loss: 0.0320 - accuracy: 0.9859 - val_loss: 1.1257 - val_accuracy: 0.7431\n"
          ],
          "name": "stdout"
        }
      ]
    },
    {
      "cell_type": "code",
      "metadata": {
        "id": "YCtLZdFLL8QP"
      },
      "source": [
        "\r\n",
        "_# loading validation data\r\n",
        "path_test = \"/content/ValData\""
      ],
      "execution_count": 26,
      "outputs": []
    },
    {
      "cell_type": "code",
      "metadata": {
        "colab": {
          "base_uri": "https://localhost:8080/"
        },
        "id": "6M_OXDzGMCIL",
        "outputId": "708cc1ad-c45f-4105-f628-dcb9ab982974"
      },
      "source": [
        "print('loading test images')\r\n",
        "X_test, y_test = load_data(path_test)"
      ],
      "execution_count": 27,
      "outputs": [
        {
          "output_type": "stream",
          "text": [
            "  3%|▎         | 7/205 [00:00<00:02, 67.78it/s]"
          ],
          "name": "stderr"
        },
        {
          "output_type": "stream",
          "text": [
            "loading test images\n"
          ],
          "name": "stdout"
        },
        {
          "output_type": "stream",
          "text": [
            "100%|██████████| 205/205 [00:02<00:00, 81.66it/s]\n",
            "100%|██████████| 450/450 [00:10<00:00, 41.14it/s]\n",
            "100%|██████████| 324/324 [00:03<00:00, 91.35it/s]\n",
            "100%|██████████| 9/9 [00:00<00:00, 176.41it/s]\n"
          ],
          "name": "stderr"
        }
      ]
    },
    {
      "cell_type": "code",
      "metadata": {
        "id": "5yGGeu7cMK5y"
      },
      "source": [
        "y_test = lb.fit_transform(y_test)"
      ],
      "execution_count": 28,
      "outputs": []
    },
    {
      "cell_type": "code",
      "metadata": {
        "colab": {
          "base_uri": "https://localhost:8080/",
          "height": 299
        },
        "id": "6jFYYc0GMQIt",
        "outputId": "09ec881f-0a17-42a8-e63b-c521cd99e90c"
      },
      "source": [
        "'''LEARNING CURVE'''\r\n",
        "\r\n",
        "import matplotlib.pyplot as plt\r\n",
        "N = np.arange(0, 50)\r\n",
        "plt.style.use('ggplot')\r\n",
        "plt.figure()\r\n",
        "plt.plot(N, hist.history['loss'], label='train_loss')\r\n",
        "plt.plot(N, hist.history['val_loss'], label='val_loss')\r\n",
        "plt.plot(N, hist.history['accuracy'], label='train_accuracy')\r\n",
        "plt.plot(N, hist.history['val_accuracy'], label='val_accuracy')\r\n",
        "plt.title('Training loss and accuracy')\r\n",
        "plt.xlabel('Epoch #')\r\n",
        "plt.ylabel('Loss/Accuracy')\r\n",
        "plt.legend()\r\n",
        "plt.show()"
      ],
      "execution_count": 29,
      "outputs": [
        {
          "output_type": "display_data",
          "data": {
            "image/png": "[encoded data removed]",
            "text/plain": [
              "<Figure size 432x288 with 1 Axes>"
            ]
          },
          "metadata": {
            "tags": []
          }
        }
      ]
    },
    {
      "cell_type": "code",
      "metadata": {
        "colab": {
          "base_uri": "https://localhost:8080/"
        },
        "id": "rGSaOPbUMaVz",
        "outputId": "eaa57942-0f5e-450b-e35c-bf97370baa61"
      },
      "source": [
        "# checking cross validation accuracy/test accuracy\r\n",
        "preds = alexnet.evaluate(X_test,y_test,batch_size=64)\r\n",
        "print (\"Loss = \" + str(preds[0]))\r\n",
        "print (\"Test Accuracy = \" + str(preds[1]))"
      ],
      "execution_count": 30,
      "outputs": [
        {
          "output_type": "stream",
          "text": [
            "16/16 [==============================] - 1s 32ms/step - loss: 1.4161 - accuracy: 0.7409\n",
            "Loss = 1.4160594940185547\n",
            "Test Accuracy = 0.7408906817436218\n"
          ],
          "name": "stdout"
        }
      ]
    },
    {
      "cell_type": "code",
      "metadata": {
        "id": "98gPOodxMjiK"
      },
      "source": [
        "import sklearn.metrics as metrics"
      ],
      "execution_count": 31,
      "outputs": []
    },
    {
      "cell_type": "code",
      "metadata": {
        "colab": {
          "base_uri": "https://localhost:8080/"
        },
        "id": "sp0GfwHTMpP3",
        "outputId": "3e567f78-230f-4586-bab0-b27a8380f141"
      },
      "source": [
        "'''CONFUSION MATRIX'''\r\n",
        "# Making prediction\r\n",
        "y_pred = alexnet.predict_classes(X_test)\r\n",
        "y_true = np.argmax(y_test, axis=-1)\r\n",
        "\r\n",
        "# Plotting the confusion matrix\r\n",
        "from sklearn.metrics import confusion_matrix\r\n",
        "confusion_mtx = confusion_matrix(y_true, y_pred)"
      ],
      "execution_count": 32,
      "outputs": [
        {
          "output_type": "stream",
          "text": [
            "/usr/local/lib/python3.6/dist-packages/tensorflow/python/keras/engine/sequential.py:450: UserWarning: `model.predict_classes()` is deprecated and will be removed after 2021-01-01. Please use instead:* `np.argmax(model.predict(x), axis=-1)`,   if your model does multi-class classification   (e.g. if it uses a `softmax` last-layer activation).* `(model.predict(x) > 0.5).astype(\"int32\")`,   if your model does binary classification   (e.g. if it uses a `sigmoid` last-layer activation).\n",
            "  warnings.warn('`model.predict_classes()` is deprecated and '\n"
          ],
          "name": "stderr"
        }
      ]
    },
    {
      "cell_type": "code",
      "metadata": {
        "colab": {
          "base_uri": "https://localhost:8080/"
        },
        "id": "cpKfmjfUMvuB",
        "outputId": "3828e0b9-4f20-49c7-b38d-0be9125be694"
      },
      "source": [
        "\r\n",
        "confusion_mtx"
      ],
      "execution_count": 33,
      "outputs": [
        {
          "output_type": "execute_result",
          "data": {
            "text/plain": [
              "array([[238,   1,  37,  48],\n",
              "       [  0,   6,   3,   0],\n",
              "       [  0,   0, 449,   1],\n",
              "       [121,   3,  42,  39]])"
            ]
          },
          "metadata": {
            "tags": []
          },
          "execution_count": 33
        }
      ]
    },
    {
      "cell_type": "code",
      "metadata": {
        "colab": {
          "base_uri": "https://localhost:8080/",
          "height": 375
        },
        "id": "9szV3MExM1mD",
        "outputId": "d97de173-44b1-4484-9ef2-210d4cbd758b"
      },
      "source": [
        "import seaborn as sns\r\n",
        "class_names=[\"BacterialPeniumonia\",\"COVID-19\",\"Normal\",\"ViralPeniumonia\"]\r\n",
        "sns.heatmap(confusion_mtx, xticklabels=class_names, yticklabels=class_names, annot=True, fmt='d', cmap=\"YlGnBu\")"
      ],
      "execution_count": 34,
      "outputs": [
        {
          "output_type": "execute_result",
          "data": {
            "text/plain": [
              "<matplotlib.axes._subplots.AxesSubplot at 0x7fe7661070b8>"
            ]
          },
          "metadata": {
            "tags": []
          },
          "execution_count": 34
        },
        {
          "output_type": "display_data",
          "data": {
            "image/png": "[encoded data removed]",
            "text/plain": [
              "<Figure size 432x288 with 2 Axes>"
            ]
          },
          "metadata": {
            "tags": []
          }
        }
      ]
    }
  ]
}